{
  "nbformat": 4,
  "nbformat_minor": 0,
  "metadata": {
    "colab": {
      "provenance": []
    },
    "kernelspec": {
      "name": "python3",
      "display_name": "Python 3"
    },
    "language_info": {
      "name": "python"
    }
  },
  "cells": [
    {
      "cell_type": "markdown",
      "source": [
        "# EnvBert\n",
        "\n",
        "EnvBert is an easy-to-use Python library built on top of Bert models to identify essential environmental data as a part of due diligence in environmental site assessments.\n",
        "\n",
        "Authors:\n",
        "Afreen Aman https://www.linkedin.com/in/afreen-aman-177824b8/\n",
        "\n",
        "Deepak John Reji https://www.linkedin.com/in/deepak-john-reji/"
      ],
      "metadata": {
        "id": "xPkJHMDMAUft"
      }
    },
    {
      "cell_type": "markdown",
      "source": [
        "## Installation"
      ],
      "metadata": {
        "id": "A0mgdZLTr6xr"
      }
    },
    {
      "cell_type": "code",
      "execution_count": 1,
      "metadata": {
        "colab": {
          "base_uri": "https://localhost:8080/"
        },
        "id": "VUs2_ltJrr0h",
        "outputId": "18bef25e-9916-49a5-9758-2d2849eac918"
      },
      "outputs": [
        {
          "output_type": "stream",
          "name": "stdout",
          "text": [
            "Collecting EnvBert\n",
            "  Downloading EnvBert-1.0.6-py3-none-any.whl.metadata (3.5 kB)\n",
            "Downloading EnvBert-1.0.6-py3-none-any.whl (47 kB)\n",
            "\u001b[2K   \u001b[90m━━━━━━━━━━━━━━━━━━━━━━━━━━━━━━━━━━━━━━━━\u001b[0m \u001b[32m48.0/48.0 kB\u001b[0m \u001b[31m1.3 MB/s\u001b[0m eta \u001b[36m0:00:00\u001b[0m\n",
            "\u001b[?25hInstalling collected packages: EnvBert\n",
            "Successfully installed EnvBert-1.0.6\n"
          ]
        }
      ],
      "source": [
        "!pip install --no-deps EnvBert"
      ]
    },
    {
      "cell_type": "code",
      "source": [
        "# load functions from envbert\n",
        "import EnvBert\n",
        "from EnvBert.due_diligence import envbert_predict\n",
        "\n",
        "import tensorflow as tf\n",
        "import pandas as pd\n",
        "\n",
        "from transformers import DistilBertTokenizer\n",
        "from transformers import TFDistilBertForSequenceClassification"
      ],
      "metadata": {
        "id": "fLwnOp_Ur8vw"
      },
      "execution_count": 13,
      "outputs": []
    },
    {
      "cell_type": "code",
      "source": [
        "EnvBert.due_diligence.env_model.config"
      ],
      "metadata": {
        "colab": {
          "base_uri": "https://localhost:8080/"
        },
        "id": "V9o2Aj_DFPcL",
        "outputId": "87f7f125-9271-4dbf-fbe7-0c1138e57e3b"
      },
      "execution_count": 23,
      "outputs": [
        {
          "output_type": "execute_result",
          "data": {
            "text/plain": [
              "DistilBertConfig {\n",
              "  \"_name_or_path\": \"d4data/environmental-due-diligence-model\",\n",
              "  \"activation\": \"gelu\",\n",
              "  \"architectures\": [\n",
              "    \"DistilBertForSequenceClassification\"\n",
              "  ],\n",
              "  \"attention_dropout\": 0.1,\n",
              "  \"dim\": 768,\n",
              "  \"dropout\": 0.1,\n",
              "  \"hidden_dim\": 3072,\n",
              "  \"id2label\": {\n",
              "    \"0\": \"Remediation Standards\",\n",
              "    \"1\": \"Extent of contamination\",\n",
              "    \"2\": \"Depth to Water\",\n",
              "    \"3\": \"Groundwater-Surfacewater interaction\",\n",
              "    \"4\": \"GW Velocity\",\n",
              "    \"5\": \"Geology\",\n",
              "    \"6\": \"Contaminated media\",\n",
              "    \"7\": \"Remediation Activities\",\n",
              "    \"8\": \"Remediation Goals\",\n",
              "    \"9\": \"Source of contamination\",\n",
              "    \"10\": \"Contaminants\"\n",
              "  },\n",
              "  \"initializer_range\": 0.02,\n",
              "  \"label2id\": {\n",
              "    \"Contaminants\": \"10\",\n",
              "    \"Contaminated media\": \"6\",\n",
              "    \"Depth to Water\": \"2\",\n",
              "    \"Extent of Contamination\": \"1\",\n",
              "    \"Extent of contamination\": \"1\",\n",
              "    \"GW Velocity\": \"4\",\n",
              "    \"Geology\": \"5\",\n",
              "    \"Groundwater-Surfacewater interaction\": \"3\",\n",
              "    \"Remediation Activities\": \"7\",\n",
              "    \"Remediation Goals\": \"8\",\n",
              "    \"Remediation Standards\": \"0\",\n",
              "    \"Source of contamination\": \"9\"\n",
              "  },\n",
              "  \"max_position_embeddings\": 512,\n",
              "  \"model_type\": \"distilbert\",\n",
              "  \"n_heads\": 12,\n",
              "  \"n_layers\": 6,\n",
              "  \"pad_token_id\": 0,\n",
              "  \"qa_dropout\": 0.1,\n",
              "  \"seq_classif_dropout\": 0.2,\n",
              "  \"sinusoidal_pos_embds\": false,\n",
              "  \"tie_weights_\": true,\n",
              "  \"transformers_version\": \"4.46.2\",\n",
              "  \"vocab_size\": 30522\n",
              "}"
            ]
          },
          "metadata": {},
          "execution_count": 23
        }
      ]
    },
    {
      "cell_type": "code",
      "source": [
        "EnvBert.due_diligence.env_model.summary()"
      ],
      "metadata": {
        "colab": {
          "base_uri": "https://localhost:8080/"
        },
        "id": "LF5Odg2xFZjV",
        "outputId": "365a5906-251e-454c-b7e9-62f93fd10673"
      },
      "execution_count": 25,
      "outputs": [
        {
          "output_type": "stream",
          "name": "stdout",
          "text": [
            "Model: \"tf_distil_bert_for_sequence_classification\"\n",
            "_________________________________________________________________\n",
            " Layer (type)                Output Shape              Param #   \n",
            "=================================================================\n",
            " distilbert (TFDistilBertMa  multiple                  66362880  \n",
            " inLayer)                                                        \n",
            "                                                                 \n",
            " pre_classifier (Dense)      multiple                  590592    \n",
            "                                                                 \n",
            " classifier (Dense)          multiple                  8459      \n",
            "                                                                 \n",
            " dropout_19 (Dropout)        multiple                  0         \n",
            "                                                                 \n",
            "=================================================================\n",
            "Total params: 66961931 (255.44 MB)\n",
            "Trainable params: 66961931 (255.44 MB)\n",
            "Non-trainable params: 0 (0.00 Byte)\n",
            "_________________________________________________________________\n"
          ]
        }
      ]
    },
    {
      "cell_type": "code",
      "source": [
        "EnvBert.due_diligence.env_tokenizer"
      ],
      "metadata": {
        "colab": {
          "base_uri": "https://localhost:8080/"
        },
        "id": "ytL__YI0BOe0",
        "outputId": "9213fbb2-c3c4-47a6-ce56-d71e79e7fafb"
      },
      "execution_count": 20,
      "outputs": [
        {
          "output_type": "execute_result",
          "data": {
            "text/plain": [
              "DistilBertTokenizerFast(name_or_path='d4data/environmental-due-diligence-model', vocab_size=30522, model_max_length=1000000000000000019884624838656, is_fast=True, padding_side='right', truncation_side='right', special_tokens={'unk_token': '[UNK]', 'sep_token': '[SEP]', 'pad_token': '[PAD]', 'cls_token': '[CLS]', 'mask_token': '[MASK]'}, clean_up_tokenization_spaces=True),  added_tokens_decoder={\n",
              "\t0: AddedToken(\"[PAD]\", rstrip=False, lstrip=False, single_word=False, normalized=False, special=True),\n",
              "\t100: AddedToken(\"[UNK]\", rstrip=False, lstrip=False, single_word=False, normalized=False, special=True),\n",
              "\t101: AddedToken(\"[CLS]\", rstrip=False, lstrip=False, single_word=False, normalized=False, special=True),\n",
              "\t102: AddedToken(\"[SEP]\", rstrip=False, lstrip=False, single_word=False, normalized=False, special=True),\n",
              "\t103: AddedToken(\"[MASK]\", rstrip=False, lstrip=False, single_word=False, normalized=False, special=True),\n",
              "}"
            ]
          },
          "metadata": {},
          "execution_count": 20
        }
      ]
    },
    {
      "cell_type": "markdown",
      "source": [
        "## EnvBert for EDD Prediction"
      ],
      "metadata": {
        "id": "M4RfKx1_AMdF"
      }
    },
    {
      "cell_type": "code",
      "source": [
        "# provide a test sentence\n",
        "doc = \"At the every month post-injection monitoring event, TCE, carbon tetrachloride, and chloroform concentrations were above CBSGs in three of the wells\"\n",
        "\n",
        "# run the function over this test sentence\n",
        "envbert_predict(doc)"
      ],
      "metadata": {
        "colab": {
          "base_uri": "https://localhost:8080/"
        },
        "id": "80tvYuhKtDDg",
        "outputId": "8fdbfa16-b4be-4293-c587-09763bcda043"
      },
      "execution_count": 27,
      "outputs": [
        {
          "output_type": "execute_result",
          "data": {
            "text/plain": [
              "['Remediation Standards', 0.3396793975943153]"
            ]
          },
          "metadata": {},
          "execution_count": 27
        }
      ]
    },
    {
      "cell_type": "markdown",
      "source": [
        "## EnvBert for determining the relevancy"
      ],
      "metadata": {
        "id": "4pNoMcq9BAaa"
      }
    },
    {
      "cell_type": "code",
      "source": [
        "# provide a sentence which is not related Environment\n",
        "doc1 = \"Tesla designs and manufactures electric vehicles, battery energy storage from home to grid-scale, solar panels and solar roof tiles, and related products and services.\"\n",
        "\n",
        "# run the function over this irrelevant sentence\n",
        "envbert_predict(doc1)"
      ],
      "metadata": {
        "colab": {
          "base_uri": "https://localhost:8080/"
        },
        "id": "ZiHVAaeStTAK",
        "outputId": "5cb0044a-5ca4-45de-9377-838ae8d9e190"
      },
      "execution_count": 28,
      "outputs": [
        {
          "output_type": "execute_result",
          "data": {
            "text/plain": [
              "['Not Relevant', 0.1487391440698568]"
            ]
          },
          "metadata": {},
          "execution_count": 28
        }
      ]
    },
    {
      "cell_type": "code",
      "source": [
        "# provide a sentence which is about environment domain\n",
        "doc2 = \"weathered shale was encountered below the surface area with fluvial deposits. Sediments in the coastal plain region are found above and below the bedrock with sandstones and shales that form the basement rock\"\n",
        "\n",
        "# run the function over this irrelevant sentence\n",
        "envbert_predict(doc2)"
      ],
      "metadata": {
        "colab": {
          "base_uri": "https://localhost:8080/"
        },
        "id": "BU0NWoebBHsD",
        "outputId": "fdbbb6fa-6438-4a56-818f-c2cfec7d32de"
      },
      "execution_count": 29,
      "outputs": [
        {
          "output_type": "execute_result",
          "data": {
            "text/plain": [
              "['Geology', 0.6775882810849261]"
            ]
          },
          "metadata": {},
          "execution_count": 29
        }
      ]
    },
    {
      "cell_type": "markdown",
      "source": [
        "## EnvBert for ranking the data"
      ],
      "metadata": {
        "id": "FjInw9BJAzBy"
      }
    },
    {
      "cell_type": "code",
      "source": [
        "# provide a set of sentences\n",
        "doc_list = [\"Norilsk Nickel says ‘flagrant violation of rules’ has been committed by dumping wastewater from reservoir into wildlife.\",\n",
        "\"Also, some of the people most harmed by groundwater contamination are indigenous or people of color who live in under-resourced areas, she says. Smaller or disadvantaged communities “should be at the front of the line to make sure they get the money that they need,” Evelyn adds. “Unfortunately, this is not the way that it works. So it’s a scramble.”\",\n",
        "\"California fined Chevron more than $2.7 million for numerous violations, noting that the spills caused “significant threat of harm to human health and the environment.” ​\",\n",
        "\"Last fall, the Central Valley Regional Water Quality Control Board assured critics that it had reviewed studies of the practice and found no elevated risks to human health or crop safety. The board focused primarily on one question—are crops grown with produced water safe to eat?—and considered as beyond the scope of its responsibility the wider range of potential harms associated with recycling the oil industry’s wastewater.\",\n",
        "\"But scientists in other parts of the country have investigated these questions, looking at both the consequences of intentional reuse of oil wastewater for irrigation and disposal and accidental spills of the wastewater on wildlife and the environment. And a growing body of research shows that even highly diluted produced water can harm soil, plants, and aquatic life, and that oil drilling boosts groundwater concentrations of naturally occurring toxic elements like arsenic, and radioactive elements like radium, while also endangering sensitive ecosystems and protected wildlife.\"]\n",
        "\n",
        "for i in doc_list:\n",
        "    print(f'doc: ', i)\n",
        "    for j in [envbert_predict(i)]:\n",
        "        print(f'prediction:',j[0])\n",
        "        print(f'probability:', j[1])\n",
        "    print(\"\")"
      ],
      "metadata": {
        "colab": {
          "base_uri": "https://localhost:8080/"
        },
        "id": "Ut0_cBNFuu38",
        "outputId": "133f5f28-faea-4641-a1e5-3201b9997b58"
      },
      "execution_count": 30,
      "outputs": [
        {
          "output_type": "stream",
          "name": "stdout",
          "text": [
            "doc:  Norilsk Nickel says ‘flagrant violation of rules’ has been committed by dumping wastewater from reservoir into wildlife.\n",
            "prediction: Contaminated media\n",
            "probability: 0.36697776940266513\n",
            "\n",
            "doc:  Also, some of the people most harmed by groundwater contamination are indigenous or people of color who live in under-resourced areas, she says. Smaller or disadvantaged communities “should be at the front of the line to make sure they get the money that they need,” Evelyn adds. “Unfortunately, this is not the way that it works. So it’s a scramble.”\n",
            "prediction: Contaminated media\n",
            "probability: 0.3219965905887965\n",
            "\n",
            "doc:  California fined Chevron more than $2.7 million for numerous violations, noting that the spills caused “significant threat of harm to human health and the environment.” ​\n",
            "prediction: Contaminated media\n",
            "probability: 0.3608906429333577\n",
            "\n",
            "doc:  Last fall, the Central Valley Regional Water Quality Control Board assured critics that it had reviewed studies of the practice and found no elevated risks to human health or crop safety. The board focused primarily on one question—are crops grown with produced water safe to eat?—and considered as beyond the scope of its responsibility the wider range of potential harms associated with recycling the oil industry’s wastewater.\n",
            "prediction: Contaminated media\n",
            "probability: 0.4100730417523259\n",
            "\n",
            "doc:  But scientists in other parts of the country have investigated these questions, looking at both the consequences of intentional reuse of oil wastewater for irrigation and disposal and accidental spills of the wastewater on wildlife and the environment. And a growing body of research shows that even highly diluted produced water can harm soil, plants, and aquatic life, and that oil drilling boosts groundwater concentrations of naturally occurring toxic elements like arsenic, and radioactive elements like radium, while also endangering sensitive ecosystems and protected wildlife.\n",
            "prediction: Contaminated media\n",
            "probability: 0.4979461116379008\n",
            "\n"
          ]
        }
      ]
    },
    {
      "cell_type": "markdown",
      "source": [
        "## EnvBert for Fine-tuning new data"
      ],
      "metadata": {
        "id": "1qBbgyCNGnMt"
      }
    },
    {
      "cell_type": "code",
      "source": [
        "import pandas as pd\n",
        "df = pd.read_excel('wildfire data - Train.xlsx')"
      ],
      "metadata": {
        "id": "XJLcpjPnSQAT"
      },
      "execution_count": 114,
      "outputs": []
    },
    {
      "cell_type": "code",
      "source": [
        "df"
      ],
      "metadata": {
        "colab": {
          "base_uri": "https://localhost:8080/",
          "height": 424
        },
        "id": "ITfy5ldSXF9Q",
        "outputId": "a997a0a7-8b0f-4d20-9b1c-e76710d7c15d"
      },
      "execution_count": 115,
      "outputs": [
        {
          "output_type": "execute_result",
          "data": {
            "text/plain": [
              "                                              Sentence  \\\n",
              "0    Wildfires release massive amounts of particula...   \n",
              "1    The combustion of vegetation during wildfires ...   \n",
              "2    Prolonged exposure to wildfire smoke has been ...   \n",
              "3    The release of volatile organic compounds duri...   \n",
              "4    Forest fires can generate thermal plumes that ...   \n",
              "..                                                 ...   \n",
              "203  Renewable energy sources now account for 30% o...   \n",
              "204  The global music streaming market continues to...   \n",
              "205  Research on the longevity of tortoises has unc...   \n",
              "206  The popularity of virtual fitness apps surged ...   \n",
              "207  A recent archaeological discovery revealed anc...   \n",
              "\n",
              "                                   label  \n",
              "0    Air Quality and Atmospheric Impacts  \n",
              "1    Air Quality and Atmospheric Impacts  \n",
              "2    Air Quality and Atmospheric Impacts  \n",
              "3    Air Quality and Atmospheric Impacts  \n",
              "4    Air Quality and Atmospheric Impacts  \n",
              "..                                   ...  \n",
              "203        Not Relevant Environment Data  \n",
              "204        Not Relevant Environment Data  \n",
              "205        Not Relevant Environment Data  \n",
              "206        Not Relevant Environment Data  \n",
              "207        Not Relevant Environment Data  \n",
              "\n",
              "[208 rows x 2 columns]"
            ],
            "text/html": [
              "\n",
              "  <div id=\"df-a7d4730e-233c-40a4-937b-0cd9b09a21f7\" class=\"colab-df-container\">\n",
              "    <div>\n",
              "<style scoped>\n",
              "    .dataframe tbody tr th:only-of-type {\n",
              "        vertical-align: middle;\n",
              "    }\n",
              "\n",
              "    .dataframe tbody tr th {\n",
              "        vertical-align: top;\n",
              "    }\n",
              "\n",
              "    .dataframe thead th {\n",
              "        text-align: right;\n",
              "    }\n",
              "</style>\n",
              "<table border=\"1\" class=\"dataframe\">\n",
              "  <thead>\n",
              "    <tr style=\"text-align: right;\">\n",
              "      <th></th>\n",
              "      <th>Sentence</th>\n",
              "      <th>label</th>\n",
              "    </tr>\n",
              "  </thead>\n",
              "  <tbody>\n",
              "    <tr>\n",
              "      <th>0</th>\n",
              "      <td>Wildfires release massive amounts of particula...</td>\n",
              "      <td>Air Quality and Atmospheric Impacts</td>\n",
              "    </tr>\n",
              "    <tr>\n",
              "      <th>1</th>\n",
              "      <td>The combustion of vegetation during wildfires ...</td>\n",
              "      <td>Air Quality and Atmospheric Impacts</td>\n",
              "    </tr>\n",
              "    <tr>\n",
              "      <th>2</th>\n",
              "      <td>Prolonged exposure to wildfire smoke has been ...</td>\n",
              "      <td>Air Quality and Atmospheric Impacts</td>\n",
              "    </tr>\n",
              "    <tr>\n",
              "      <th>3</th>\n",
              "      <td>The release of volatile organic compounds duri...</td>\n",
              "      <td>Air Quality and Atmospheric Impacts</td>\n",
              "    </tr>\n",
              "    <tr>\n",
              "      <th>4</th>\n",
              "      <td>Forest fires can generate thermal plumes that ...</td>\n",
              "      <td>Air Quality and Atmospheric Impacts</td>\n",
              "    </tr>\n",
              "    <tr>\n",
              "      <th>...</th>\n",
              "      <td>...</td>\n",
              "      <td>...</td>\n",
              "    </tr>\n",
              "    <tr>\n",
              "      <th>203</th>\n",
              "      <td>Renewable energy sources now account for 30% o...</td>\n",
              "      <td>Not Relevant Environment Data</td>\n",
              "    </tr>\n",
              "    <tr>\n",
              "      <th>204</th>\n",
              "      <td>The global music streaming market continues to...</td>\n",
              "      <td>Not Relevant Environment Data</td>\n",
              "    </tr>\n",
              "    <tr>\n",
              "      <th>205</th>\n",
              "      <td>Research on the longevity of tortoises has unc...</td>\n",
              "      <td>Not Relevant Environment Data</td>\n",
              "    </tr>\n",
              "    <tr>\n",
              "      <th>206</th>\n",
              "      <td>The popularity of virtual fitness apps surged ...</td>\n",
              "      <td>Not Relevant Environment Data</td>\n",
              "    </tr>\n",
              "    <tr>\n",
              "      <th>207</th>\n",
              "      <td>A recent archaeological discovery revealed anc...</td>\n",
              "      <td>Not Relevant Environment Data</td>\n",
              "    </tr>\n",
              "  </tbody>\n",
              "</table>\n",
              "<p>208 rows × 2 columns</p>\n",
              "</div>\n",
              "    <div class=\"colab-df-buttons\">\n",
              "\n",
              "  <div class=\"colab-df-container\">\n",
              "    <button class=\"colab-df-convert\" onclick=\"convertToInteractive('df-a7d4730e-233c-40a4-937b-0cd9b09a21f7')\"\n",
              "            title=\"Convert this dataframe to an interactive table.\"\n",
              "            style=\"display:none;\">\n",
              "\n",
              "  <svg xmlns=\"http://www.w3.org/2000/svg\" height=\"24px\" viewBox=\"0 -960 960 960\">\n",
              "    <path d=\"M120-120v-720h720v720H120Zm60-500h600v-160H180v160Zm220 220h160v-160H400v160Zm0 220h160v-160H400v160ZM180-400h160v-160H180v160Zm440 0h160v-160H620v160ZM180-180h160v-160H180v160Zm440 0h160v-160H620v160Z\"/>\n",
              "  </svg>\n",
              "    </button>\n",
              "\n",
              "  <style>\n",
              "    .colab-df-container {\n",
              "      display:flex;\n",
              "      gap: 12px;\n",
              "    }\n",
              "\n",
              "    .colab-df-convert {\n",
              "      background-color: #E8F0FE;\n",
              "      border: none;\n",
              "      border-radius: 50%;\n",
              "      cursor: pointer;\n",
              "      display: none;\n",
              "      fill: #1967D2;\n",
              "      height: 32px;\n",
              "      padding: 0 0 0 0;\n",
              "      width: 32px;\n",
              "    }\n",
              "\n",
              "    .colab-df-convert:hover {\n",
              "      background-color: #E2EBFA;\n",
              "      box-shadow: 0px 1px 2px rgba(60, 64, 67, 0.3), 0px 1px 3px 1px rgba(60, 64, 67, 0.15);\n",
              "      fill: #174EA6;\n",
              "    }\n",
              "\n",
              "    .colab-df-buttons div {\n",
              "      margin-bottom: 4px;\n",
              "    }\n",
              "\n",
              "    [theme=dark] .colab-df-convert {\n",
              "      background-color: #3B4455;\n",
              "      fill: #D2E3FC;\n",
              "    }\n",
              "\n",
              "    [theme=dark] .colab-df-convert:hover {\n",
              "      background-color: #434B5C;\n",
              "      box-shadow: 0px 1px 3px 1px rgba(0, 0, 0, 0.15);\n",
              "      filter: drop-shadow(0px 1px 2px rgba(0, 0, 0, 0.3));\n",
              "      fill: #FFFFFF;\n",
              "    }\n",
              "  </style>\n",
              "\n",
              "    <script>\n",
              "      const buttonEl =\n",
              "        document.querySelector('#df-a7d4730e-233c-40a4-937b-0cd9b09a21f7 button.colab-df-convert');\n",
              "      buttonEl.style.display =\n",
              "        google.colab.kernel.accessAllowed ? 'block' : 'none';\n",
              "\n",
              "      async function convertToInteractive(key) {\n",
              "        const element = document.querySelector('#df-a7d4730e-233c-40a4-937b-0cd9b09a21f7');\n",
              "        const dataTable =\n",
              "          await google.colab.kernel.invokeFunction('convertToInteractive',\n",
              "                                                    [key], {});\n",
              "        if (!dataTable) return;\n",
              "\n",
              "        const docLinkHtml = 'Like what you see? Visit the ' +\n",
              "          '<a target=\"_blank\" href=https://colab.research.google.com/notebooks/data_table.ipynb>data table notebook</a>'\n",
              "          + ' to learn more about interactive tables.';\n",
              "        element.innerHTML = '';\n",
              "        dataTable['output_type'] = 'display_data';\n",
              "        await google.colab.output.renderOutput(dataTable, element);\n",
              "        const docLink = document.createElement('div');\n",
              "        docLink.innerHTML = docLinkHtml;\n",
              "        element.appendChild(docLink);\n",
              "      }\n",
              "    </script>\n",
              "  </div>\n",
              "\n",
              "\n",
              "<div id=\"df-cac73dd4-1e84-4200-b112-dee17b0e6124\">\n",
              "  <button class=\"colab-df-quickchart\" onclick=\"quickchart('df-cac73dd4-1e84-4200-b112-dee17b0e6124')\"\n",
              "            title=\"Suggest charts\"\n",
              "            style=\"display:none;\">\n",
              "\n",
              "<svg xmlns=\"http://www.w3.org/2000/svg\" height=\"24px\"viewBox=\"0 0 24 24\"\n",
              "     width=\"24px\">\n",
              "    <g>\n",
              "        <path d=\"M19 3H5c-1.1 0-2 .9-2 2v14c0 1.1.9 2 2 2h14c1.1 0 2-.9 2-2V5c0-1.1-.9-2-2-2zM9 17H7v-7h2v7zm4 0h-2V7h2v10zm4 0h-2v-4h2v4z\"/>\n",
              "    </g>\n",
              "</svg>\n",
              "  </button>\n",
              "\n",
              "<style>\n",
              "  .colab-df-quickchart {\n",
              "      --bg-color: #E8F0FE;\n",
              "      --fill-color: #1967D2;\n",
              "      --hover-bg-color: #E2EBFA;\n",
              "      --hover-fill-color: #174EA6;\n",
              "      --disabled-fill-color: #AAA;\n",
              "      --disabled-bg-color: #DDD;\n",
              "  }\n",
              "\n",
              "  [theme=dark] .colab-df-quickchart {\n",
              "      --bg-color: #3B4455;\n",
              "      --fill-color: #D2E3FC;\n",
              "      --hover-bg-color: #434B5C;\n",
              "      --hover-fill-color: #FFFFFF;\n",
              "      --disabled-bg-color: #3B4455;\n",
              "      --disabled-fill-color: #666;\n",
              "  }\n",
              "\n",
              "  .colab-df-quickchart {\n",
              "    background-color: var(--bg-color);\n",
              "    border: none;\n",
              "    border-radius: 50%;\n",
              "    cursor: pointer;\n",
              "    display: none;\n",
              "    fill: var(--fill-color);\n",
              "    height: 32px;\n",
              "    padding: 0;\n",
              "    width: 32px;\n",
              "  }\n",
              "\n",
              "  .colab-df-quickchart:hover {\n",
              "    background-color: var(--hover-bg-color);\n",
              "    box-shadow: 0 1px 2px rgba(60, 64, 67, 0.3), 0 1px 3px 1px rgba(60, 64, 67, 0.15);\n",
              "    fill: var(--button-hover-fill-color);\n",
              "  }\n",
              "\n",
              "  .colab-df-quickchart-complete:disabled,\n",
              "  .colab-df-quickchart-complete:disabled:hover {\n",
              "    background-color: var(--disabled-bg-color);\n",
              "    fill: var(--disabled-fill-color);\n",
              "    box-shadow: none;\n",
              "  }\n",
              "\n",
              "  .colab-df-spinner {\n",
              "    border: 2px solid var(--fill-color);\n",
              "    border-color: transparent;\n",
              "    border-bottom-color: var(--fill-color);\n",
              "    animation:\n",
              "      spin 1s steps(1) infinite;\n",
              "  }\n",
              "\n",
              "  @keyframes spin {\n",
              "    0% {\n",
              "      border-color: transparent;\n",
              "      border-bottom-color: var(--fill-color);\n",
              "      border-left-color: var(--fill-color);\n",
              "    }\n",
              "    20% {\n",
              "      border-color: transparent;\n",
              "      border-left-color: var(--fill-color);\n",
              "      border-top-color: var(--fill-color);\n",
              "    }\n",
              "    30% {\n",
              "      border-color: transparent;\n",
              "      border-left-color: var(--fill-color);\n",
              "      border-top-color: var(--fill-color);\n",
              "      border-right-color: var(--fill-color);\n",
              "    }\n",
              "    40% {\n",
              "      border-color: transparent;\n",
              "      border-right-color: var(--fill-color);\n",
              "      border-top-color: var(--fill-color);\n",
              "    }\n",
              "    60% {\n",
              "      border-color: transparent;\n",
              "      border-right-color: var(--fill-color);\n",
              "    }\n",
              "    80% {\n",
              "      border-color: transparent;\n",
              "      border-right-color: var(--fill-color);\n",
              "      border-bottom-color: var(--fill-color);\n",
              "    }\n",
              "    90% {\n",
              "      border-color: transparent;\n",
              "      border-bottom-color: var(--fill-color);\n",
              "    }\n",
              "  }\n",
              "</style>\n",
              "\n",
              "  <script>\n",
              "    async function quickchart(key) {\n",
              "      const quickchartButtonEl =\n",
              "        document.querySelector('#' + key + ' button');\n",
              "      quickchartButtonEl.disabled = true;  // To prevent multiple clicks.\n",
              "      quickchartButtonEl.classList.add('colab-df-spinner');\n",
              "      try {\n",
              "        const charts = await google.colab.kernel.invokeFunction(\n",
              "            'suggestCharts', [key], {});\n",
              "      } catch (error) {\n",
              "        console.error('Error during call to suggestCharts:', error);\n",
              "      }\n",
              "      quickchartButtonEl.classList.remove('colab-df-spinner');\n",
              "      quickchartButtonEl.classList.add('colab-df-quickchart-complete');\n",
              "    }\n",
              "    (() => {\n",
              "      let quickchartButtonEl =\n",
              "        document.querySelector('#df-cac73dd4-1e84-4200-b112-dee17b0e6124 button');\n",
              "      quickchartButtonEl.style.display =\n",
              "        google.colab.kernel.accessAllowed ? 'block' : 'none';\n",
              "    })();\n",
              "  </script>\n",
              "</div>\n",
              "\n",
              "  <div id=\"id_0a504c8c-1267-4ee3-9fe4-98941bcf0487\">\n",
              "    <style>\n",
              "      .colab-df-generate {\n",
              "        background-color: #E8F0FE;\n",
              "        border: none;\n",
              "        border-radius: 50%;\n",
              "        cursor: pointer;\n",
              "        display: none;\n",
              "        fill: #1967D2;\n",
              "        height: 32px;\n",
              "        padding: 0 0 0 0;\n",
              "        width: 32px;\n",
              "      }\n",
              "\n",
              "      .colab-df-generate:hover {\n",
              "        background-color: #E2EBFA;\n",
              "        box-shadow: 0px 1px 2px rgba(60, 64, 67, 0.3), 0px 1px 3px 1px rgba(60, 64, 67, 0.15);\n",
              "        fill: #174EA6;\n",
              "      }\n",
              "\n",
              "      [theme=dark] .colab-df-generate {\n",
              "        background-color: #3B4455;\n",
              "        fill: #D2E3FC;\n",
              "      }\n",
              "\n",
              "      [theme=dark] .colab-df-generate:hover {\n",
              "        background-color: #434B5C;\n",
              "        box-shadow: 0px 1px 3px 1px rgba(0, 0, 0, 0.15);\n",
              "        filter: drop-shadow(0px 1px 2px rgba(0, 0, 0, 0.3));\n",
              "        fill: #FFFFFF;\n",
              "      }\n",
              "    </style>\n",
              "    <button class=\"colab-df-generate\" onclick=\"generateWithVariable('df')\"\n",
              "            title=\"Generate code using this dataframe.\"\n",
              "            style=\"display:none;\">\n",
              "\n",
              "  <svg xmlns=\"http://www.w3.org/2000/svg\" height=\"24px\"viewBox=\"0 0 24 24\"\n",
              "       width=\"24px\">\n",
              "    <path d=\"M7,19H8.4L18.45,9,17,7.55,7,17.6ZM5,21V16.75L18.45,3.32a2,2,0,0,1,2.83,0l1.4,1.43a1.91,1.91,0,0,1,.58,1.4,1.91,1.91,0,0,1-.58,1.4L9.25,21ZM18.45,9,17,7.55Zm-12,3A5.31,5.31,0,0,0,4.9,8.1,5.31,5.31,0,0,0,1,6.5,5.31,5.31,0,0,0,4.9,4.9,5.31,5.31,0,0,0,6.5,1,5.31,5.31,0,0,0,8.1,4.9,5.31,5.31,0,0,0,12,6.5,5.46,5.46,0,0,0,6.5,12Z\"/>\n",
              "  </svg>\n",
              "    </button>\n",
              "    <script>\n",
              "      (() => {\n",
              "      const buttonEl =\n",
              "        document.querySelector('#id_0a504c8c-1267-4ee3-9fe4-98941bcf0487 button.colab-df-generate');\n",
              "      buttonEl.style.display =\n",
              "        google.colab.kernel.accessAllowed ? 'block' : 'none';\n",
              "\n",
              "      buttonEl.onclick = () => {\n",
              "        google.colab.notebook.generateWithVariable('df');\n",
              "      }\n",
              "      })();\n",
              "    </script>\n",
              "  </div>\n",
              "\n",
              "    </div>\n",
              "  </div>\n"
            ],
            "application/vnd.google.colaboratory.intrinsic+json": {
              "type": "dataframe",
              "variable_name": "df",
              "summary": "{\n  \"name\": \"df\",\n  \"rows\": 208,\n  \"fields\": [\n    {\n      \"column\": \"Sentence\",\n      \"properties\": {\n        \"dtype\": \"string\",\n        \"num_unique_values\": 207,\n        \"samples\": [\n          \"Hydrophobic soil layers created by fires increase flood risks during the rainy season.\",\n          \"Wildfires often leave a legacy of persistent organic pollutants in the soil and water for decades.\",\n          \"Wildfires often lead to the destruction of keystone plant species, altering ecosystems permanently.\"\n        ],\n        \"semantic_type\": \"\",\n        \"description\": \"\"\n      }\n    },\n    {\n      \"column\": \"label\",\n      \"properties\": {\n        \"dtype\": \"category\",\n        \"num_unique_values\": 4,\n        \"samples\": [\n          \"Soil, Water, and Ecosystem Impacts\",\n          \"Not Relevant Environment Data\",\n          \"Air Quality and Atmospheric Impacts\"\n        ],\n        \"semantic_type\": \"\",\n        \"description\": \"\"\n      }\n    }\n  ]\n}"
            }
          },
          "metadata": {},
          "execution_count": 115
        }
      ]
    },
    {
      "cell_type": "code",
      "source": [
        "df['label'].unique()"
      ],
      "metadata": {
        "colab": {
          "base_uri": "https://localhost:8080/"
        },
        "id": "5tXWiK9sXOj6",
        "outputId": "8287a2cf-8e0e-4741-9e82-7493892b9cda"
      },
      "execution_count": 116,
      "outputs": [
        {
          "output_type": "execute_result",
          "data": {
            "text/plain": [
              "array(['Air Quality and Atmospheric Impacts',\n",
              "       'Soil, Water, and Ecosystem Impacts',\n",
              "       'Post-Wildfire Recovery and Landscape Dynamics',\n",
              "       'Not Relevant Environment Data'], dtype=object)"
            ]
          },
          "metadata": {},
          "execution_count": 116
        }
      ]
    },
    {
      "cell_type": "code",
      "source": [
        "df['encoded Label'] = df['label']\n",
        "\n",
        "df.replace({'encoded Label': {'Air Quality and Atmospheric Impacts':0,\n",
        " 'Soil, Water, and Ecosystem Impacts':1,\n",
        " 'Post-Wildfire Recovery and Landscape Dynamics':2,\n",
        " 'Not Relevant Environment Data':3,\n",
        "  }}, inplace=True)"
      ],
      "metadata": {
        "colab": {
          "base_uri": "https://localhost:8080/"
        },
        "id": "xX4zen0dXDgZ",
        "outputId": "d2f8c688-36ab-4340-81a2-a9e6b9b20419"
      },
      "execution_count": 117,
      "outputs": [
        {
          "output_type": "stream",
          "name": "stderr",
          "text": [
            "<ipython-input-117-080b748cf384>:3: FutureWarning: Downcasting behavior in `replace` is deprecated and will be removed in a future version. To retain the old behavior, explicitly call `result.infer_objects(copy=False)`. To opt-in to the future behavior, set `pd.set_option('future.no_silent_downcasting', True)`\n",
            "  df.replace({'encoded Label': {'Air Quality and Atmospheric Impacts':0,\n"
          ]
        }
      ]
    },
    {
      "cell_type": "code",
      "source": [
        "df"
      ],
      "metadata": {
        "colab": {
          "base_uri": "https://localhost:8080/",
          "height": 424
        },
        "id": "89aCi5tRbyal",
        "outputId": "46ce2f86-2231-406e-b1ba-ebabf9045584"
      },
      "execution_count": 118,
      "outputs": [
        {
          "output_type": "execute_result",
          "data": {
            "text/plain": [
              "                                              Sentence  \\\n",
              "0    Wildfires release massive amounts of particula...   \n",
              "1    The combustion of vegetation during wildfires ...   \n",
              "2    Prolonged exposure to wildfire smoke has been ...   \n",
              "3    The release of volatile organic compounds duri...   \n",
              "4    Forest fires can generate thermal plumes that ...   \n",
              "..                                                 ...   \n",
              "203  Renewable energy sources now account for 30% o...   \n",
              "204  The global music streaming market continues to...   \n",
              "205  Research on the longevity of tortoises has unc...   \n",
              "206  The popularity of virtual fitness apps surged ...   \n",
              "207  A recent archaeological discovery revealed anc...   \n",
              "\n",
              "                                   label  encoded Label  \n",
              "0    Air Quality and Atmospheric Impacts              0  \n",
              "1    Air Quality and Atmospheric Impacts              0  \n",
              "2    Air Quality and Atmospheric Impacts              0  \n",
              "3    Air Quality and Atmospheric Impacts              0  \n",
              "4    Air Quality and Atmospheric Impacts              0  \n",
              "..                                   ...            ...  \n",
              "203        Not Relevant Environment Data              3  \n",
              "204        Not Relevant Environment Data              3  \n",
              "205        Not Relevant Environment Data              3  \n",
              "206        Not Relevant Environment Data              3  \n",
              "207        Not Relevant Environment Data              3  \n",
              "\n",
              "[208 rows x 3 columns]"
            ],
            "text/html": [
              "\n",
              "  <div id=\"df-f86413a2-0638-47a9-b323-b9a7f9507ab0\" class=\"colab-df-container\">\n",
              "    <div>\n",
              "<style scoped>\n",
              "    .dataframe tbody tr th:only-of-type {\n",
              "        vertical-align: middle;\n",
              "    }\n",
              "\n",
              "    .dataframe tbody tr th {\n",
              "        vertical-align: top;\n",
              "    }\n",
              "\n",
              "    .dataframe thead th {\n",
              "        text-align: right;\n",
              "    }\n",
              "</style>\n",
              "<table border=\"1\" class=\"dataframe\">\n",
              "  <thead>\n",
              "    <tr style=\"text-align: right;\">\n",
              "      <th></th>\n",
              "      <th>Sentence</th>\n",
              "      <th>label</th>\n",
              "      <th>encoded Label</th>\n",
              "    </tr>\n",
              "  </thead>\n",
              "  <tbody>\n",
              "    <tr>\n",
              "      <th>0</th>\n",
              "      <td>Wildfires release massive amounts of particula...</td>\n",
              "      <td>Air Quality and Atmospheric Impacts</td>\n",
              "      <td>0</td>\n",
              "    </tr>\n",
              "    <tr>\n",
              "      <th>1</th>\n",
              "      <td>The combustion of vegetation during wildfires ...</td>\n",
              "      <td>Air Quality and Atmospheric Impacts</td>\n",
              "      <td>0</td>\n",
              "    </tr>\n",
              "    <tr>\n",
              "      <th>2</th>\n",
              "      <td>Prolonged exposure to wildfire smoke has been ...</td>\n",
              "      <td>Air Quality and Atmospheric Impacts</td>\n",
              "      <td>0</td>\n",
              "    </tr>\n",
              "    <tr>\n",
              "      <th>3</th>\n",
              "      <td>The release of volatile organic compounds duri...</td>\n",
              "      <td>Air Quality and Atmospheric Impacts</td>\n",
              "      <td>0</td>\n",
              "    </tr>\n",
              "    <tr>\n",
              "      <th>4</th>\n",
              "      <td>Forest fires can generate thermal plumes that ...</td>\n",
              "      <td>Air Quality and Atmospheric Impacts</td>\n",
              "      <td>0</td>\n",
              "    </tr>\n",
              "    <tr>\n",
              "      <th>...</th>\n",
              "      <td>...</td>\n",
              "      <td>...</td>\n",
              "      <td>...</td>\n",
              "    </tr>\n",
              "    <tr>\n",
              "      <th>203</th>\n",
              "      <td>Renewable energy sources now account for 30% o...</td>\n",
              "      <td>Not Relevant Environment Data</td>\n",
              "      <td>3</td>\n",
              "    </tr>\n",
              "    <tr>\n",
              "      <th>204</th>\n",
              "      <td>The global music streaming market continues to...</td>\n",
              "      <td>Not Relevant Environment Data</td>\n",
              "      <td>3</td>\n",
              "    </tr>\n",
              "    <tr>\n",
              "      <th>205</th>\n",
              "      <td>Research on the longevity of tortoises has unc...</td>\n",
              "      <td>Not Relevant Environment Data</td>\n",
              "      <td>3</td>\n",
              "    </tr>\n",
              "    <tr>\n",
              "      <th>206</th>\n",
              "      <td>The popularity of virtual fitness apps surged ...</td>\n",
              "      <td>Not Relevant Environment Data</td>\n",
              "      <td>3</td>\n",
              "    </tr>\n",
              "    <tr>\n",
              "      <th>207</th>\n",
              "      <td>A recent archaeological discovery revealed anc...</td>\n",
              "      <td>Not Relevant Environment Data</td>\n",
              "      <td>3</td>\n",
              "    </tr>\n",
              "  </tbody>\n",
              "</table>\n",
              "<p>208 rows × 3 columns</p>\n",
              "</div>\n",
              "    <div class=\"colab-df-buttons\">\n",
              "\n",
              "  <div class=\"colab-df-container\">\n",
              "    <button class=\"colab-df-convert\" onclick=\"convertToInteractive('df-f86413a2-0638-47a9-b323-b9a7f9507ab0')\"\n",
              "            title=\"Convert this dataframe to an interactive table.\"\n",
              "            style=\"display:none;\">\n",
              "\n",
              "  <svg xmlns=\"http://www.w3.org/2000/svg\" height=\"24px\" viewBox=\"0 -960 960 960\">\n",
              "    <path d=\"M120-120v-720h720v720H120Zm60-500h600v-160H180v160Zm220 220h160v-160H400v160Zm0 220h160v-160H400v160ZM180-400h160v-160H180v160Zm440 0h160v-160H620v160ZM180-180h160v-160H180v160Zm440 0h160v-160H620v160Z\"/>\n",
              "  </svg>\n",
              "    </button>\n",
              "\n",
              "  <style>\n",
              "    .colab-df-container {\n",
              "      display:flex;\n",
              "      gap: 12px;\n",
              "    }\n",
              "\n",
              "    .colab-df-convert {\n",
              "      background-color: #E8F0FE;\n",
              "      border: none;\n",
              "      border-radius: 50%;\n",
              "      cursor: pointer;\n",
              "      display: none;\n",
              "      fill: #1967D2;\n",
              "      height: 32px;\n",
              "      padding: 0 0 0 0;\n",
              "      width: 32px;\n",
              "    }\n",
              "\n",
              "    .colab-df-convert:hover {\n",
              "      background-color: #E2EBFA;\n",
              "      box-shadow: 0px 1px 2px rgba(60, 64, 67, 0.3), 0px 1px 3px 1px rgba(60, 64, 67, 0.15);\n",
              "      fill: #174EA6;\n",
              "    }\n",
              "\n",
              "    .colab-df-buttons div {\n",
              "      margin-bottom: 4px;\n",
              "    }\n",
              "\n",
              "    [theme=dark] .colab-df-convert {\n",
              "      background-color: #3B4455;\n",
              "      fill: #D2E3FC;\n",
              "    }\n",
              "\n",
              "    [theme=dark] .colab-df-convert:hover {\n",
              "      background-color: #434B5C;\n",
              "      box-shadow: 0px 1px 3px 1px rgba(0, 0, 0, 0.15);\n",
              "      filter: drop-shadow(0px 1px 2px rgba(0, 0, 0, 0.3));\n",
              "      fill: #FFFFFF;\n",
              "    }\n",
              "  </style>\n",
              "\n",
              "    <script>\n",
              "      const buttonEl =\n",
              "        document.querySelector('#df-f86413a2-0638-47a9-b323-b9a7f9507ab0 button.colab-df-convert');\n",
              "      buttonEl.style.display =\n",
              "        google.colab.kernel.accessAllowed ? 'block' : 'none';\n",
              "\n",
              "      async function convertToInteractive(key) {\n",
              "        const element = document.querySelector('#df-f86413a2-0638-47a9-b323-b9a7f9507ab0');\n",
              "        const dataTable =\n",
              "          await google.colab.kernel.invokeFunction('convertToInteractive',\n",
              "                                                    [key], {});\n",
              "        if (!dataTable) return;\n",
              "\n",
              "        const docLinkHtml = 'Like what you see? Visit the ' +\n",
              "          '<a target=\"_blank\" href=https://colab.research.google.com/notebooks/data_table.ipynb>data table notebook</a>'\n",
              "          + ' to learn more about interactive tables.';\n",
              "        element.innerHTML = '';\n",
              "        dataTable['output_type'] = 'display_data';\n",
              "        await google.colab.output.renderOutput(dataTable, element);\n",
              "        const docLink = document.createElement('div');\n",
              "        docLink.innerHTML = docLinkHtml;\n",
              "        element.appendChild(docLink);\n",
              "      }\n",
              "    </script>\n",
              "  </div>\n",
              "\n",
              "\n",
              "<div id=\"df-b6fd12ec-5c66-4b4d-9a62-10d5d2d6f5f6\">\n",
              "  <button class=\"colab-df-quickchart\" onclick=\"quickchart('df-b6fd12ec-5c66-4b4d-9a62-10d5d2d6f5f6')\"\n",
              "            title=\"Suggest charts\"\n",
              "            style=\"display:none;\">\n",
              "\n",
              "<svg xmlns=\"http://www.w3.org/2000/svg\" height=\"24px\"viewBox=\"0 0 24 24\"\n",
              "     width=\"24px\">\n",
              "    <g>\n",
              "        <path d=\"M19 3H5c-1.1 0-2 .9-2 2v14c0 1.1.9 2 2 2h14c1.1 0 2-.9 2-2V5c0-1.1-.9-2-2-2zM9 17H7v-7h2v7zm4 0h-2V7h2v10zm4 0h-2v-4h2v4z\"/>\n",
              "    </g>\n",
              "</svg>\n",
              "  </button>\n",
              "\n",
              "<style>\n",
              "  .colab-df-quickchart {\n",
              "      --bg-color: #E8F0FE;\n",
              "      --fill-color: #1967D2;\n",
              "      --hover-bg-color: #E2EBFA;\n",
              "      --hover-fill-color: #174EA6;\n",
              "      --disabled-fill-color: #AAA;\n",
              "      --disabled-bg-color: #DDD;\n",
              "  }\n",
              "\n",
              "  [theme=dark] .colab-df-quickchart {\n",
              "      --bg-color: #3B4455;\n",
              "      --fill-color: #D2E3FC;\n",
              "      --hover-bg-color: #434B5C;\n",
              "      --hover-fill-color: #FFFFFF;\n",
              "      --disabled-bg-color: #3B4455;\n",
              "      --disabled-fill-color: #666;\n",
              "  }\n",
              "\n",
              "  .colab-df-quickchart {\n",
              "    background-color: var(--bg-color);\n",
              "    border: none;\n",
              "    border-radius: 50%;\n",
              "    cursor: pointer;\n",
              "    display: none;\n",
              "    fill: var(--fill-color);\n",
              "    height: 32px;\n",
              "    padding: 0;\n",
              "    width: 32px;\n",
              "  }\n",
              "\n",
              "  .colab-df-quickchart:hover {\n",
              "    background-color: var(--hover-bg-color);\n",
              "    box-shadow: 0 1px 2px rgba(60, 64, 67, 0.3), 0 1px 3px 1px rgba(60, 64, 67, 0.15);\n",
              "    fill: var(--button-hover-fill-color);\n",
              "  }\n",
              "\n",
              "  .colab-df-quickchart-complete:disabled,\n",
              "  .colab-df-quickchart-complete:disabled:hover {\n",
              "    background-color: var(--disabled-bg-color);\n",
              "    fill: var(--disabled-fill-color);\n",
              "    box-shadow: none;\n",
              "  }\n",
              "\n",
              "  .colab-df-spinner {\n",
              "    border: 2px solid var(--fill-color);\n",
              "    border-color: transparent;\n",
              "    border-bottom-color: var(--fill-color);\n",
              "    animation:\n",
              "      spin 1s steps(1) infinite;\n",
              "  }\n",
              "\n",
              "  @keyframes spin {\n",
              "    0% {\n",
              "      border-color: transparent;\n",
              "      border-bottom-color: var(--fill-color);\n",
              "      border-left-color: var(--fill-color);\n",
              "    }\n",
              "    20% {\n",
              "      border-color: transparent;\n",
              "      border-left-color: var(--fill-color);\n",
              "      border-top-color: var(--fill-color);\n",
              "    }\n",
              "    30% {\n",
              "      border-color: transparent;\n",
              "      border-left-color: var(--fill-color);\n",
              "      border-top-color: var(--fill-color);\n",
              "      border-right-color: var(--fill-color);\n",
              "    }\n",
              "    40% {\n",
              "      border-color: transparent;\n",
              "      border-right-color: var(--fill-color);\n",
              "      border-top-color: var(--fill-color);\n",
              "    }\n",
              "    60% {\n",
              "      border-color: transparent;\n",
              "      border-right-color: var(--fill-color);\n",
              "    }\n",
              "    80% {\n",
              "      border-color: transparent;\n",
              "      border-right-color: var(--fill-color);\n",
              "      border-bottom-color: var(--fill-color);\n",
              "    }\n",
              "    90% {\n",
              "      border-color: transparent;\n",
              "      border-bottom-color: var(--fill-color);\n",
              "    }\n",
              "  }\n",
              "</style>\n",
              "\n",
              "  <script>\n",
              "    async function quickchart(key) {\n",
              "      const quickchartButtonEl =\n",
              "        document.querySelector('#' + key + ' button');\n",
              "      quickchartButtonEl.disabled = true;  // To prevent multiple clicks.\n",
              "      quickchartButtonEl.classList.add('colab-df-spinner');\n",
              "      try {\n",
              "        const charts = await google.colab.kernel.invokeFunction(\n",
              "            'suggestCharts', [key], {});\n",
              "      } catch (error) {\n",
              "        console.error('Error during call to suggestCharts:', error);\n",
              "      }\n",
              "      quickchartButtonEl.classList.remove('colab-df-spinner');\n",
              "      quickchartButtonEl.classList.add('colab-df-quickchart-complete');\n",
              "    }\n",
              "    (() => {\n",
              "      let quickchartButtonEl =\n",
              "        document.querySelector('#df-b6fd12ec-5c66-4b4d-9a62-10d5d2d6f5f6 button');\n",
              "      quickchartButtonEl.style.display =\n",
              "        google.colab.kernel.accessAllowed ? 'block' : 'none';\n",
              "    })();\n",
              "  </script>\n",
              "</div>\n",
              "\n",
              "  <div id=\"id_165691e8-f79b-4b71-b79c-72674610a23a\">\n",
              "    <style>\n",
              "      .colab-df-generate {\n",
              "        background-color: #E8F0FE;\n",
              "        border: none;\n",
              "        border-radius: 50%;\n",
              "        cursor: pointer;\n",
              "        display: none;\n",
              "        fill: #1967D2;\n",
              "        height: 32px;\n",
              "        padding: 0 0 0 0;\n",
              "        width: 32px;\n",
              "      }\n",
              "\n",
              "      .colab-df-generate:hover {\n",
              "        background-color: #E2EBFA;\n",
              "        box-shadow: 0px 1px 2px rgba(60, 64, 67, 0.3), 0px 1px 3px 1px rgba(60, 64, 67, 0.15);\n",
              "        fill: #174EA6;\n",
              "      }\n",
              "\n",
              "      [theme=dark] .colab-df-generate {\n",
              "        background-color: #3B4455;\n",
              "        fill: #D2E3FC;\n",
              "      }\n",
              "\n",
              "      [theme=dark] .colab-df-generate:hover {\n",
              "        background-color: #434B5C;\n",
              "        box-shadow: 0px 1px 3px 1px rgba(0, 0, 0, 0.15);\n",
              "        filter: drop-shadow(0px 1px 2px rgba(0, 0, 0, 0.3));\n",
              "        fill: #FFFFFF;\n",
              "      }\n",
              "    </style>\n",
              "    <button class=\"colab-df-generate\" onclick=\"generateWithVariable('df')\"\n",
              "            title=\"Generate code using this dataframe.\"\n",
              "            style=\"display:none;\">\n",
              "\n",
              "  <svg xmlns=\"http://www.w3.org/2000/svg\" height=\"24px\"viewBox=\"0 0 24 24\"\n",
              "       width=\"24px\">\n",
              "    <path d=\"M7,19H8.4L18.45,9,17,7.55,7,17.6ZM5,21V16.75L18.45,3.32a2,2,0,0,1,2.83,0l1.4,1.43a1.91,1.91,0,0,1,.58,1.4,1.91,1.91,0,0,1-.58,1.4L9.25,21ZM18.45,9,17,7.55Zm-12,3A5.31,5.31,0,0,0,4.9,8.1,5.31,5.31,0,0,0,1,6.5,5.31,5.31,0,0,0,4.9,4.9,5.31,5.31,0,0,0,6.5,1,5.31,5.31,0,0,0,8.1,4.9,5.31,5.31,0,0,0,12,6.5,5.46,5.46,0,0,0,6.5,12Z\"/>\n",
              "  </svg>\n",
              "    </button>\n",
              "    <script>\n",
              "      (() => {\n",
              "      const buttonEl =\n",
              "        document.querySelector('#id_165691e8-f79b-4b71-b79c-72674610a23a button.colab-df-generate');\n",
              "      buttonEl.style.display =\n",
              "        google.colab.kernel.accessAllowed ? 'block' : 'none';\n",
              "\n",
              "      buttonEl.onclick = () => {\n",
              "        google.colab.notebook.generateWithVariable('df');\n",
              "      }\n",
              "      })();\n",
              "    </script>\n",
              "  </div>\n",
              "\n",
              "    </div>\n",
              "  </div>\n"
            ],
            "application/vnd.google.colaboratory.intrinsic+json": {
              "type": "dataframe",
              "variable_name": "df",
              "summary": "{\n  \"name\": \"df\",\n  \"rows\": 208,\n  \"fields\": [\n    {\n      \"column\": \"Sentence\",\n      \"properties\": {\n        \"dtype\": \"string\",\n        \"num_unique_values\": 207,\n        \"samples\": [\n          \"Hydrophobic soil layers created by fires increase flood risks during the rainy season.\",\n          \"Wildfires often leave a legacy of persistent organic pollutants in the soil and water for decades.\",\n          \"Wildfires often lead to the destruction of keystone plant species, altering ecosystems permanently.\"\n        ],\n        \"semantic_type\": \"\",\n        \"description\": \"\"\n      }\n    },\n    {\n      \"column\": \"label\",\n      \"properties\": {\n        \"dtype\": \"category\",\n        \"num_unique_values\": 4,\n        \"samples\": [\n          \"Soil, Water, and Ecosystem Impacts\",\n          \"Not Relevant Environment Data\",\n          \"Air Quality and Atmospheric Impacts\"\n        ],\n        \"semantic_type\": \"\",\n        \"description\": \"\"\n      }\n    },\n    {\n      \"column\": \"encoded Label\",\n      \"properties\": {\n        \"dtype\": \"number\",\n        \"std\": 1,\n        \"min\": 0,\n        \"max\": 3,\n        \"num_unique_values\": 4,\n        \"samples\": [\n          1,\n          3,\n          0\n        ],\n        \"semantic_type\": \"\",\n        \"description\": \"\"\n      }\n    }\n  ]\n}"
            }
          },
          "metadata": {},
          "execution_count": 118
        }
      ]
    },
    {
      "source": [
        "# @title label\n",
        "\n",
        "from matplotlib import pyplot as plt\n",
        "import seaborn as sns\n",
        "df.groupby('label').size().plot(kind='barh', color=sns.palettes.mpl_palette('Dark2'))\n",
        "plt.gca().spines[['top', 'right',]].set_visible(False)"
      ],
      "cell_type": "code",
      "execution_count": 119,
      "outputs": [
        {
          "output_type": "display_data",
          "data": {
            "text/plain": [
              "<Figure size 640x480 with 1 Axes>"
            ],
            "image/png": "[encoded data removed]"
          },
          "metadata": {}
        }
      ],
      "metadata": {
        "colab": {
          "base_uri": "https://localhost:8080/",
          "height": 430
        },
        "id": "PB3z7GxZTm-K",
        "outputId": "65985d59-63ce-4825-8cec-11ecb1d3f7f7"
      }
    },
    {
      "cell_type": "code",
      "source": [
        "import os\n",
        "os.getcwd()"
      ],
      "metadata": {
        "colab": {
          "base_uri": "https://localhost:8080/",
          "height": 35
        },
        "id": "LNf6TARaTuN8",
        "outputId": "4061dcc1-3b96-4781-9807-1c7f312a9ebf"
      },
      "execution_count": 120,
      "outputs": [
        {
          "output_type": "execute_result",
          "data": {
            "text/plain": [
              "'/content'"
            ],
            "application/vnd.google.colaboratory.intrinsic+json": {
              "type": "string"
            }
          },
          "metadata": {},
          "execution_count": 120
        }
      ]
    },
    {
      "cell_type": "code",
      "source": [
        "df.columns"
      ],
      "metadata": {
        "colab": {
          "base_uri": "https://localhost:8080/"
        },
        "id": "rAa5uOuHb377",
        "outputId": "2adbf2da-9d71-422b-dc73-c566bd5c9e99"
      },
      "execution_count": 121,
      "outputs": [
        {
          "output_type": "execute_result",
          "data": {
            "text/plain": [
              "Index(['Sentence', 'label', 'encoded Label'], dtype='object')"
            ]
          },
          "metadata": {},
          "execution_count": 121
        }
      ]
    },
    {
      "cell_type": "code",
      "source": [
        "# define training config\n",
        "training_config = {\n",
        "    'learning_rate':5e-5,\n",
        "    'epochs':3,\n",
        "    'batch_size':16,\n",
        "    'sentence column name':'Sentence', #training sentences column name\n",
        "    'label column name': 'encoded Label', #encoded labels column name\n",
        "    'save_dir': r'/content' #model save path\n",
        "    }\n",
        "\n",
        "\"\"\"\n",
        "please make sure you encode your labels\n",
        "provide the save_dir path to automatically save the model after training\n",
        "'sentence column name' and 'label column name' are mandatory fields in training config\n",
        "you can tweak the other parameters or it will be taken by default\n",
        "\"\"\""
      ],
      "metadata": {
        "colab": {
          "base_uri": "https://localhost:8080/",
          "height": 53
        },
        "id": "DM1JrvVSuxMN",
        "outputId": "adf765db-7b9f-4fae-fbfe-b4dcc10a4633"
      },
      "execution_count": 152,
      "outputs": [
        {
          "output_type": "execute_result",
          "data": {
            "text/plain": [
              "\"\\nplease make sure you encode your labels\\nprovide the save_dir path to automatically save the model after training\\n'sentence column name' and 'label column name' are mandatory fields in training config\\nyou can tweak the other parameters or it will be taken by default\\n\""
            ],
            "application/vnd.google.colaboratory.intrinsic+json": {
              "type": "string"
            }
          },
          "metadata": {},
          "execution_count": 152
        }
      ]
    },
    {
      "cell_type": "code",
      "source": [
        "def finetune(data, training_config):\n",
        "    try:\n",
        "        #unwrapping training configurations\n",
        "        if 'learning_rate' in training_config.keys():\n",
        "            l_r = training_config['learning_rate']\n",
        "        else:\n",
        "            l_r = 5e-5\n",
        "\n",
        "        if 'epochs' in training_config.keys():\n",
        "            epoch_count = training_config['epochs']\n",
        "        else:\n",
        "            epoch_count = 10\n",
        "\n",
        "        if 'batch_size' in training_config.keys():\n",
        "            batch_size = training_config['batch_size']\n",
        "        else:\n",
        "            batch_size = 16\n",
        "\n",
        "        if 'sentence column name' in training_config.keys():\n",
        "            sentence = training_config['sentence column name']\n",
        "\n",
        "        if 'label column name' in training_config.keys():\n",
        "            encoded_label = training_config['label column name']\n",
        "\n",
        "        if sentence and encoded_label:\n",
        "            data.dropna(subset=[sentence, encoded_label], how='any', inplace=True)\n",
        "            # features and labels\n",
        "            data_texts = data[sentence].to_list() # Features (not-tokenized yet)\n",
        "            data_labels = data[encoded_label].to_list() # Lables\n",
        "\n",
        "            # tokenizing the text\n",
        "            train_encodings = env_tokenizer(data_texts, truncation=True, padding=True)\n",
        "\n",
        "            train_dataset = tf.data.Dataset.from_tensor_slices((\n",
        "                dict(train_encodings),\n",
        "                data_labels\n",
        "            ))\n",
        "\n",
        "            optimizer = tf.keras.optimizers.Adam(learning_rate=l_r)\n",
        "            env_model.compile(optimizer=optimizer, loss='sparse_categorical_crossentropy',\n",
        "                              metrics=['accuracy'])\n",
        "\n",
        "            env_model.fit(train_dataset.shuffle(1000).batch(batch_size), epochs=epoch_count, batch_size=batch_size,\n",
        "                          validation_data=train_dataset.shuffle(1000).batch(batch_size))\n",
        "            print(\"Model trained successfully!!!\")\n",
        "\n",
        "            try:\n",
        "                if 'save_dir' in training_config.keys():\n",
        "                    env_model.save_pretrained(training_config['save_dir'])\n",
        "                    env_tokenizer.save_pretrained(training_config['save_dir'])\n",
        "                    print(\"Model saved successfully\")\n",
        "            except:\n",
        "                print(\"Model save unsuccessfull, please save it yourself from the returned models\")\n",
        "\n",
        "            return env_model, env_tokenizer\n",
        "        else:\n",
        "            print(\"There is an error, Model cannot be trained\")\n",
        "            return None, None\n",
        "    except:\n",
        "        return None, None\n",
        "        print(\"There is an error, Model cannot be trained\")\n"
      ],
      "metadata": {
        "id": "s5yn42kkgfkR"
      },
      "execution_count": 162,
      "outputs": []
    },
    {
      "cell_type": "code",
      "source": [
        "# Train the model with just 1 line\n",
        "new_model, new_tokenizer = finetune(df, training_config)"
      ],
      "metadata": {
        "colab": {
          "base_uri": "https://localhost:8080/"
        },
        "id": "AZmaPrTJgvaa",
        "outputId": "d4e2d729-5f17-48c0-925d-3444a98d9050"
      },
      "execution_count": 163,
      "outputs": [
        {
          "output_type": "stream",
          "name": "stdout",
          "text": [
            "Epoch 1/3\n",
            "13/13 [==============================] - 102s 7s/step - loss: 8.6036 - accuracy: 0.2260 - val_loss: 8.4208 - val_accuracy: 0.2260\n",
            "Epoch 2/3\n",
            "13/13 [==============================] - 67s 5s/step - loss: 8.7561 - accuracy: 0.2260 - val_loss: 8.3803 - val_accuracy: 0.2260\n",
            "Epoch 3/3\n",
            "13/13 [==============================] - 70s 5s/step - loss: 8.5572 - accuracy: 0.2260 - val_loss: 8.5335 - val_accuracy: 0.2260\n",
            "Model trained successfully!!!\n",
            "Model saved successfully\n"
          ]
        }
      ]
    },
    {
      "cell_type": "code",
      "source": [
        "test_text = \"Forest restoration projects include planting fire-resistant tree species..\"\n",
        "\n",
        "print(\"Sentence : \" + test_text)\n",
        "print(\"\\n\")\n",
        "predict_input = new_tokenizer.encode(test_text,\n",
        "                                 truncation=True,\n",
        "                                 padding=True,\n",
        "                                 return_tensors=\"tf\")\n",
        "\n",
        "output = new_model(predict_input)[0]\n",
        "\n",
        "prediction_value = tf.argmax(output, axis=1).numpy()[0]\n",
        "\n",
        "if (prediction_value == 0):\n",
        "    print(\"Air Quality and Atmospheric Impacts\")\n",
        "elif (prediction_value == 1):\n",
        "    print(\"Soil, Water, and Ecosystem Impacts\")\n",
        "elif (prediction_value == 2):\n",
        "    print(\"Post-Wildfire Recovery and Landscape Dynamics\")\n",
        "else:\n",
        "    print(\"Not Relevant Environment Data\")"
      ],
      "metadata": {
        "colab": {
          "base_uri": "https://localhost:8080/"
        },
        "id": "52rYky6Ig9Me",
        "outputId": "fcc9f063-9dd1-4fc9-8f07-c35ad6916de9"
      },
      "execution_count": 172,
      "outputs": [
        {
          "output_type": "stream",
          "name": "stdout",
          "text": [
            "Sentence : Forest restoration projects include planting fire-resistant tree species..\n",
            "\n",
            "\n",
            "Air Quality and Atmospheric Impacts\n"
          ]
        }
      ]
    },
    {
      "cell_type": "code",
      "source": [],
      "metadata": {
        "id": "JrV7KCm4iF5c"
      },
      "execution_count": null,
      "outputs": []
    },
    {
      "cell_type": "code",
      "source": [],
      "metadata": {
        "id": "V1nM9Bgcg9GN"
      },
      "execution_count": null,
      "outputs": []
    },
    {
      "cell_type": "code",
      "source": [],
      "metadata": {
        "id": "DowKdklPg8-a"
      },
      "execution_count": null,
      "outputs": []
    },
    {
      "cell_type": "code",
      "source": [],
      "metadata": {
        "id": "9Dw8cgjVg8ht"
      },
      "execution_count": null,
      "outputs": []
    },
    {
      "cell_type": "code",
      "source": [
        "l_r = training_config['learning_rate']\n",
        "epoch_count = training_config['epochs']\n",
        "batch_size = training_config['batch_size']\n",
        "sentence = training_config['sentence column name']\n",
        "encoded_label = training_config['label column name']\n"
      ],
      "metadata": {
        "id": "l6FMzYioU_NM"
      },
      "execution_count": 154,
      "outputs": []
    },
    {
      "cell_type": "code",
      "source": [
        "#Classification Model\n",
        "env_tokenizer = AutoTokenizer.from_pretrained(\"d4data/environmental-due-diligence-model\")\n",
        "env_model = TFAutoModelForSequenceClassification.from_pretrained(\"d4data/environmental-due-diligence-model\")\n"
      ],
      "metadata": {
        "colab": {
          "base_uri": "https://localhost:8080/"
        },
        "id": "8OHLCOmOTzeb",
        "outputId": "3447b6a7-fd0d-4371-b41e-b0f9a89562ce"
      },
      "execution_count": 155,
      "outputs": [
        {
          "output_type": "stream",
          "name": "stderr",
          "text": [
            "Some layers from the model checkpoint at d4data/environmental-due-diligence-model were not used when initializing TFDistilBertForSequenceClassification: ['dropout_19']\n",
            "- This IS expected if you are initializing TFDistilBertForSequenceClassification from the checkpoint of a model trained on another task or with another architecture (e.g. initializing a BertForSequenceClassification model from a BertForPreTraining model).\n",
            "- This IS NOT expected if you are initializing TFDistilBertForSequenceClassification from the checkpoint of a model that you expect to be exactly identical (initializing a BertForSequenceClassification model from a BertForSequenceClassification model).\n",
            "Some layers of TFDistilBertForSequenceClassification were not initialized from the model checkpoint at d4data/environmental-due-diligence-model and are newly initialized: ['dropout_199']\n",
            "You should probably TRAIN this model on a down-stream task to be able to use it for predictions and inference.\n"
          ]
        }
      ]
    },
    {
      "cell_type": "code",
      "source": [
        "data_texts = df[sentence].to_list() # Features (not-tokenized yet)\n",
        "data_labels = df[encoded_label].to_list() # Lables"
      ],
      "metadata": {
        "id": "xlVELmzdUsB-"
      },
      "execution_count": 156,
      "outputs": []
    },
    {
      "cell_type": "code",
      "source": [
        "# tokenizing the text\n",
        "train_encodings = env_tokenizer(data_texts, truncation=True, padding=True)\n",
        "\n",
        "train_dataset = tf.data.Dataset.from_tensor_slices((\n",
        "    dict(train_encodings),\n",
        "    data_labels\n",
        "))"
      ],
      "metadata": {
        "colab": {
          "base_uri": "https://localhost:8080/"
        },
        "id": "kLyIofesU2jh",
        "outputId": "6dc8983a-d7a6-4cb5-e010-30dd25eb5825"
      },
      "execution_count": 157,
      "outputs": [
        {
          "output_type": "stream",
          "name": "stderr",
          "text": [
            "Asking to truncate to max_length but no maximum length is provided and the model has no predefined maximum length. Default to no truncation.\n"
          ]
        }
      ]
    },
    {
      "cell_type": "code",
      "source": [
        "optimizer = tf.keras.optimizers.Adam(learning_rate=l_r)\n",
        "env_model.compile(optimizer=optimizer, loss='sparse_categorical_crossentropy',\n",
        "                              metrics=['accuracy'])\n"
      ],
      "metadata": {
        "id": "f4KXeFjvVQtY"
      },
      "execution_count": 158,
      "outputs": []
    },
    {
      "cell_type": "code",
      "source": [
        "env_model.summary()"
      ],
      "metadata": {
        "colab": {
          "base_uri": "https://localhost:8080/"
        },
        "id": "sX6rtaN_VSuB",
        "outputId": "4f3974bb-7fa8-4fad-9c0c-56a7ecfc9ed8"
      },
      "execution_count": 159,
      "outputs": [
        {
          "output_type": "stream",
          "name": "stdout",
          "text": [
            "Model: \"tf_distil_bert_for_sequence_classification_9\"\n",
            "_________________________________________________________________\n",
            " Layer (type)                Output Shape              Param #   \n",
            "=================================================================\n",
            " distilbert (TFDistilBertMa  multiple                  66362880  \n",
            " inLayer)                                                        \n",
            "                                                                 \n",
            " pre_classifier (Dense)      multiple                  590592    \n",
            "                                                                 \n",
            " classifier (Dense)          multiple                  8459      \n",
            "                                                                 \n",
            " dropout_199 (Dropout)       multiple                  0 (unused)\n",
            "                                                                 \n",
            "=================================================================\n",
            "Total params: 66961931 (255.44 MB)\n",
            "Trainable params: 66961931 (255.44 MB)\n",
            "Non-trainable params: 0 (0.00 Byte)\n",
            "_________________________________________________________________\n"
          ]
        }
      ]
    },
    {
      "cell_type": "code",
      "source": [
        "env_model.fit(train_dataset.shuffle(1000).batch(batch_size), epochs=epoch_count, batch_size=batch_size,\n",
        "                          validation_data=train_dataset.shuffle(1000).batch(batch_size))\n"
      ],
      "metadata": {
        "colab": {
          "base_uri": "https://localhost:8080/"
        },
        "id": "ecBl3kVycqOV",
        "outputId": "362484f5-11ac-4588-dac4-11c59898b31f"
      },
      "execution_count": 160,
      "outputs": [
        {
          "output_type": "stream",
          "name": "stdout",
          "text": [
            "Epoch 1/3\n",
            "13/13 [==============================] - 89s 6s/step - loss: 10.6400 - accuracy: 0.2596 - val_loss: 8.6459 - val_accuracy: 0.3510\n",
            "Epoch 2/3\n",
            "13/13 [==============================] - 61s 5s/step - loss: 8.7900 - accuracy: 0.2452 - val_loss: 9.2450 - val_accuracy: 0.2260\n",
            "Epoch 3/3\n",
            "13/13 [==============================] - 60s 5s/step - loss: 8.6027 - accuracy: 0.2260 - val_loss: 8.5446 - val_accuracy: 0.2260\n"
          ]
        },
        {
          "output_type": "execute_result",
          "data": {
            "text/plain": [
              "<tf_keras.src.callbacks.History at 0x7db1f28f8070>"
            ]
          },
          "metadata": {},
          "execution_count": 160
        }
      ]
    },
    {
      "cell_type": "code",
      "source": [
        "env_model.predict()"
      ],
      "metadata": {
        "colab": {
          "base_uri": "https://localhost:8080/"
        },
        "id": "DcmL6guJfmFo",
        "outputId": "2b5d311c-4c15-4013-a689-b8a313d5fdc7"
      },
      "execution_count": 161,
      "outputs": [
        {
          "output_type": "stream",
          "name": "stdout",
          "text": [
            "13/13 [==============================] - 19s 1s/step\n"
          ]
        },
        {
          "output_type": "execute_result",
          "data": {
            "text/plain": [
              "TFSequenceClassifierOutput(loss=None, logits=array([[ 6.7635517 ,  0.19394515, -2.6094708 , ..., -0.8855013 ,\n",
              "        -3.934679  , -1.4036539 ],\n",
              "       [ 6.1891794 ,  0.68179667, -2.8017876 , ..., -1.176125  ,\n",
              "        -4.260385  , -2.1229799 ],\n",
              "       [ 6.1907344 ,  1.5248986 , -2.4372523 , ..., -1.4513704 ,\n",
              "        -3.9570572 , -1.4563284 ],\n",
              "       ...,\n",
              "       [ 5.8274884 ,  2.0504756 , -2.3258839 , ..., -1.4698235 ,\n",
              "        -4.0151772 , -1.6554987 ],\n",
              "       [ 5.060868  ,  3.2181828 , -2.360615  , ..., -1.6946164 ,\n",
              "        -3.9171221 , -1.717904  ],\n",
              "       [ 5.0906262 ,  3.357386  , -2.45493   , ..., -1.6962099 ,\n",
              "        -3.9456372 , -1.441622  ]], dtype=float32), hidden_states=None, attentions=None)"
            ]
          },
          "metadata": {},
          "execution_count": 161
        }
      ]
    },
    {
      "cell_type": "code",
      "source": [
        "classifier = pipeline('text-classification', model=model, tokenizer=tokenizer) # cuda = 0,1 based on gpu availability\n",
        "classifier(\"At the every month post-injection monitoring event, TCE, carbon tetrachloride, and chloroform concentrations were above CBSGs in three of the wells\")"
      ],
      "metadata": {
        "id": "jpal-Qfbf-Dv"
      },
      "execution_count": null,
      "outputs": []
    },
    {
      "cell_type": "code",
      "source": [
        "for sample in train_dataset.take(1):\n",
        "    print(sample)"
      ],
      "metadata": {
        "colab": {
          "base_uri": "https://localhost:8080/"
        },
        "id": "0nPZDqTTc3ZF",
        "outputId": "94064172-350e-4c1a-ea73-766f86cba683"
      },
      "execution_count": 139,
      "outputs": [
        {
          "output_type": "stream",
          "name": "stdout",
          "text": [
            "({'input_ids': <tf.Tensor: shape=(31,), dtype=int32, numpy=\n",
            "array([  101,  3748, 26332,  2713,  5294,  8310,  1997,  2112, 24153,\n",
            "        3043,  2046,  1996,  7224,  1010,  8161,  2250,  3737,  2005,\n",
            "        3134,  1012,   102,     0,     0,     0,     0,     0,     0,\n",
            "           0,     0,     0,     0], dtype=int32)>, 'attention_mask': <tf.Tensor: shape=(31,), dtype=int32, numpy=\n",
            "array([1, 1, 1, 1, 1, 1, 1, 1, 1, 1, 1, 1, 1, 1, 1, 1, 1, 1, 1, 1, 1, 0,\n",
            "       0, 0, 0, 0, 0, 0, 0, 0, 0], dtype=int32)>}, <tf.Tensor: shape=(), dtype=int32, numpy=0>)\n"
          ]
        }
      ]
    },
    {
      "cell_type": "code",
      "source": [
        "sample_features, sample_labels = next(iter(train_dataset.batch(batch_size)))\n",
        "predictions = env_model(sample_features)\n",
        "print(predictions)"
      ],
      "metadata": {
        "colab": {
          "base_uri": "https://localhost:8080/"
        },
        "id": "Ohrxvph8dFNM",
        "outputId": "f2748db0-68f6-46f8-8409-95b001582c5a"
      },
      "execution_count": 142,
      "outputs": [
        {
          "output_type": "stream",
          "name": "stdout",
          "text": [
            "TFSequenceClassifierOutput(loss=None, logits=<tf.Tensor: shape=(16, 11), dtype=float32, numpy=\n",
            "array([[-3.2095609 ,  1.2989036 , -3.206203  , -2.9736164 , -3.020591  ,\n",
            "        -3.421527  ,  4.775108  , -2.7742426 , -2.4060464 ,  1.4287701 ,\n",
            "        -1.6242486 ],\n",
            "       [-3.7803345 ,  0.5686632 , -3.8761795 , -3.407416  , -3.3467786 ,\n",
            "        -3.6241734 ,  2.7095737 , -1.7513851 , -2.6850553 ,  4.3819513 ,\n",
            "        -0.38452685],\n",
            "       [-2.4980395 ,  0.5821175 , -3.385915  , -3.004921  , -3.254894  ,\n",
            "        -3.3025465 ,  6.219298  , -2.8600972 , -1.3499898 , -0.9717149 ,\n",
            "        -0.5941346 ],\n",
            "       [-3.8256092 ,  0.9021011 , -3.5321295 , -3.156654  , -3.7002444 ,\n",
            "        -1.6315839 ,  3.8362374 , -3.0619428 , -3.0098271 ,  2.4816232 ,\n",
            "        -0.6889618 ],\n",
            "       [-3.3774    ,  5.65824   , -2.9848926 , -2.8306887 , -2.600963  ,\n",
            "        -2.7099304 , -0.35057425, -3.1680439 , -3.2832224 ,  1.0580403 ,\n",
            "        -0.33328936],\n",
            "       [-3.1861033 ,  3.2990346 , -3.025333  , -2.7054625 , -2.9942496 ,\n",
            "        -3.303232  ,  3.4684455 , -3.2101028 , -3.0388942 , -0.54099274,\n",
            "        -0.07019328],\n",
            "       [-3.2100291 ,  4.8408117 , -3.0385041 , -2.5794811 , -3.1092715 ,\n",
            "        -3.008856  ,  1.7384233 , -3.546541  , -3.0295844 , -0.33052567,\n",
            "         0.80496997],\n",
            "       [-2.8729327 ,  6.5644927 , -2.507861  , -2.722689  , -2.8542898 ,\n",
            "        -2.8629045 , -0.08536834, -3.1711361 , -2.7780216 , -0.37809607,\n",
            "        -0.20255487],\n",
            "       [-2.8233957 , -0.02542328, -2.7990515 , -1.8678788 , -2.9570339 ,\n",
            "        -2.8408463 ,  6.3256145 , -2.1588511 , -1.6900657 , -1.1913736 ,\n",
            "        -1.8762305 ],\n",
            "       [-2.9021826 , -0.38672534, -3.0528505 , -2.1053796 , -3.0919633 ,\n",
            "        -0.34677342,  5.7484217 , -1.8684522 , -2.237052  , -1.9437675 ,\n",
            "        -1.7002815 ],\n",
            "       [-3.484672  , -1.2066545 , -3.0359237 ,  2.5039167 , -3.163377  ,\n",
            "        -0.59561497,  3.4661891 , -1.6434575 , -2.8469696 , -2.167622  ,\n",
            "        -2.1296313 ],\n",
            "       [-2.4582977 , -1.0560685 , -2.519039  , -1.5234376 , -2.7975693 ,\n",
            "        -2.3570507 ,  6.420492  , -1.8766272 , -1.6917241 , -1.4700226 ,\n",
            "        -1.721556  ],\n",
            "       [-4.1275697 ,  0.89978975, -2.1586993 ,  0.251079  , -2.638519  ,\n",
            "        -1.8070447 ,  2.0137162 , -2.4318473 , -2.9938445 ,  0.06064641,\n",
            "        -2.167523  ],\n",
            "       [-2.9033918 ,  1.5624517 , -3.5825014 , -2.8252363 , -3.0919828 ,\n",
            "        -2.9827564 ,  5.921965  , -1.94304   , -2.206605  , -1.1689941 ,\n",
            "        -1.0772967 ],\n",
            "       [-2.962213  ,  0.39239153, -3.5606735 , -2.3619542 , -3.2457035 ,\n",
            "        -1.4342377 ,  5.8524446 , -1.7056985 , -2.4397626 , -1.4247662 ,\n",
            "        -1.3147519 ],\n",
            "       [-3.5351942 ,  2.716608  , -3.581341  , -2.7994902 , -3.0822287 ,\n",
            "        -3.2838087 ,  3.549958  , -2.857948  , -2.3304234 ,  1.6620927 ,\n",
            "        -0.87146217]], dtype=float32)>, hidden_states=None, attentions=None)\n"
          ]
        }
      ]
    },
    {
      "cell_type": "code",
      "source": [
        "model.compile(optimizer='adam', loss='sparse_categorical_crossentropy', metrics=['accuracy'])\n"
      ],
      "metadata": {
        "id": "U0u2rUP9dH_u"
      },
      "execution_count": null,
      "outputs": []
    }
  ]
}